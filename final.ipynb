{
   "cells": [
      {
         "cell_type": "code",
         "execution_count": 13,
         "metadata": {},
         "outputs": [],
         "source": [
            "# Importing necessary libraries and settings\n",
            "import json\n",
            "from random import randint\n",
            "from functools import reduce\n",
            "import spotipy\n",
            "import spotipy.util as util\n",
            "from spotipy.oauth2 import SpotifyClientCredentials\n",
            "from spotipy import oauth2\n",
            "\n",
            "from kafka import KafkaProducer\n",
            "from pyspark.sql import SparkSession\n",
            "from pyspark.sql.functions import from_json\n",
            "from pyspark.sql.types import (\n",
            "    StructType,\n",
            "    StructField,\n",
            "    StringType,\n",
            "    IntegerType,\n",
            "    FloatType,\n",
            "    ArrayType,\n",
            ")\n",
            "from pyspark.ml.linalg import Vectors\n",
            "from pyspark.ml.classification import NaiveBayes\n",
            "from pyspark.ml.feature import VectorAssembler, MinMaxScaler"
         ]
      },
      {
         "cell_type": "code",
         "execution_count": 2,
         "metadata": {},
         "outputs": [],
         "source": [
            "packages = {\n",
            "    \"org.apache.spark:spark-sql-kafka-0-10_2.12:3.4.0,org.neo4j:neo4j-connector-apache-spark_2.12:5.0.2_for_spark_3\"\n",
            "}"
         ]
      },
      {
         "cell_type": "code",
         "execution_count": 3,
         "metadata": {},
         "outputs": [],
         "source": [
            "cid = '6546e0f0348341a88d86457d98b3bc9b'\n",
            "secret = 'cfeabd91de824bcfa8f2c8dd8a2191e0'\n",
            "redirect_uri='http://localhost:7777/callback'\n",
            "username = 'vass.zora'"
         ]
      },
      {
         "cell_type": "code",
         "execution_count": 4,
         "metadata": {},
         "outputs": [],
         "source": [
            "# Once the Authorisation is complete, we just need to `sp` to call the APIs\n",
            "scope = 'user-top-read user-read-private playlist-modify-private playlist-modify-public user-read-currently-playing'\n",
            "token = util.prompt_for_user_token(username, scope, client_id=cid, client_secret=secret, redirect_uri=redirect_uri)\n",
            "\n",
            "if token:\n",
            "    sp = spotipy.Spotify(auth=token)\n",
            "else:\n",
            "    print(\"Can't get token for\", username)"
         ]
      },
      {
         "cell_type": "code",
         "execution_count": 5,
         "metadata": {},
         "outputs": [],
         "source": [
            "# Creating a function to get tracks IDs from a playlist\n",
            "def get_playlist_tracks(username,playlist_id):\n",
            "    results = sp.user_playlist_tracks(username,playlist_id)\n",
            "    tracks = results['items']\n",
            "    while results['next']:\n",
            "        results = sp.next(results)\n",
            "        tracks.extend(results['items'])\n",
            "    return tracks"
         ]
      },
      {
         "cell_type": "code",
         "execution_count": 6,
         "metadata": {},
         "outputs": [],
         "source": [
            "playlist_id_mood_dict = {\n",
            "    'sad': '37i9dQZF1DX3rxVfibe1L0',\n",
            "    'happy': '37i9dQZF1DX4uPi2roRUwU',\n",
            "    #'chill': '37i9dQZF1DWWQRwui0ExPn',\n",
            "    #'angry': '37i9dQZF1DX3ND264N08pv',\n",
            "    #'romantic': '37i9dQZF1DX7rOY2tZUw1k',\n",
            "}"
         ]
      },
      {
         "cell_type": "code",
         "execution_count": 14,
         "metadata": {},
         "outputs": [],
         "source": [
            "moods = ['sad', \n",
            "         'happy', \n",
            "         #'chill', \n",
            "         #'angry', \n",
            "         #'romantic'\n",
            "         ]\n",
            "\n",
            "# Getting tracks from each playlist\n",
            "tracks = []\n",
            "audio_features = []\n",
            "for mood in moods:\n",
            "    current_tracks = get_playlist_tracks(username, playlist_id_mood_dict[mood])\n",
            "    tracks.extend(current_tracks)\n",
            "    # for track in current_tracks: #uncomment if spotify api works\n",
            "    #     current_audio = sp.audio_features(track['track']['id'])[0]\n",
            "    #     current_audio['mood'] = moods.index(mood)\n",
            "    #     audio_features.append(current_audio)"
         ]
      },
      {
         "cell_type": "code",
         "execution_count": 8,
         "metadata": {},
         "outputs": [
            {
               "name": "stdout",
               "output_type": "stream",
               "text": [
                  "23/06/01 14:31:02 WARN Utils: Your hostname, HP-Elite830 resolves to a loopback address: 127.0.1.1; using 192.168.1.18 instead (on interface wlp1s0)\n",
                  "23/06/01 14:31:02 WARN Utils: Set SPARK_LOCAL_IP if you need to bind to another address\n",
                  ":: loading settings :: url = jar:file:/home/vaszo/.local/lib/python3.10/site-packages/pyspark/jars/ivy-2.5.1.jar!/org/apache/ivy/core/settings/ivysettings.xml\n"
               ]
            },
            {
               "name": "stderr",
               "output_type": "stream",
               "text": [
                  "Ivy Default Cache set to: /home/vaszo/.ivy2/cache\n",
                  "The jars for the packages stored in: /home/vaszo/.ivy2/jars\n",
                  "org.apache.spark#spark-sql-kafka-0-10_2.12 added as a dependency\n",
                  "org.neo4j#neo4j-connector-apache-spark_2.12 added as a dependency\n",
                  ":: resolving dependencies :: org.apache.spark#spark-submit-parent-a3b21036-093d-415e-b5a9-f45104794319;1.0\n",
                  "\tconfs: [default]\n",
                  "\tfound org.apache.spark#spark-sql-kafka-0-10_2.12;3.4.0 in central\n",
                  "\tfound org.apache.spark#spark-token-provider-kafka-0-10_2.12;3.4.0 in central\n",
                  "\tfound org.apache.kafka#kafka-clients;3.3.2 in central\n",
                  "\tfound org.lz4#lz4-java;1.8.0 in central\n",
                  "\tfound org.xerial.snappy#snappy-java;1.1.9.1 in central\n",
                  "\tfound org.slf4j#slf4j-api;2.0.6 in central\n",
                  "\tfound org.apache.hadoop#hadoop-client-runtime;3.3.4 in central\n",
                  "\tfound org.apache.hadoop#hadoop-client-api;3.3.4 in central\n",
                  "\tfound commons-logging#commons-logging;1.1.3 in central\n",
                  "\tfound com.google.code.findbugs#jsr305;3.0.0 in central\n",
                  "\tfound org.apache.commons#commons-pool2;2.11.1 in local-m2-cache\n",
                  "\tfound org.neo4j#neo4j-connector-apache-spark_2.12;5.0.2_for_spark_3 in central\n",
                  "\tfound org.neo4j#neo4j-connector-apache-spark_2.12_common;5.0.2 in central\n",
                  "\tfound org.neo4j.driver#neo4j-java-driver;4.4.11 in central\n",
                  "\tfound org.reactivestreams#reactive-streams;1.0.4 in central\n",
                  "\tfound org.apache.xbean#xbean-asm6-shaded;4.10 in central\n",
                  "\tfound org.neo4j#neo4j-cypher-dsl;2020.1.4 in central\n",
                  "\tfound org.apiguardian#apiguardian-api;1.1.0 in central\n",
                  ":: resolution report :: resolve 1279ms :: artifacts dl 59ms\n",
                  "\t:: modules in use:\n",
                  "\tcom.google.code.findbugs#jsr305;3.0.0 from central in [default]\n",
                  "\tcommons-logging#commons-logging;1.1.3 from central in [default]\n",
                  "\torg.apache.commons#commons-pool2;2.11.1 from local-m2-cache in [default]\n",
                  "\torg.apache.hadoop#hadoop-client-api;3.3.4 from central in [default]\n",
                  "\torg.apache.hadoop#hadoop-client-runtime;3.3.4 from central in [default]\n",
                  "\torg.apache.kafka#kafka-clients;3.3.2 from central in [default]\n",
                  "\torg.apache.spark#spark-sql-kafka-0-10_2.12;3.4.0 from central in [default]\n",
                  "\torg.apache.spark#spark-token-provider-kafka-0-10_2.12;3.4.0 from central in [default]\n",
                  "\torg.apache.xbean#xbean-asm6-shaded;4.10 from central in [default]\n",
                  "\torg.apiguardian#apiguardian-api;1.1.0 from central in [default]\n",
                  "\torg.lz4#lz4-java;1.8.0 from central in [default]\n",
                  "\torg.neo4j#neo4j-connector-apache-spark_2.12;5.0.2_for_spark_3 from central in [default]\n",
                  "\torg.neo4j#neo4j-connector-apache-spark_2.12_common;5.0.2 from central in [default]\n",
                  "\torg.neo4j#neo4j-cypher-dsl;2020.1.4 from central in [default]\n",
                  "\torg.neo4j.driver#neo4j-java-driver;4.4.11 from central in [default]\n",
                  "\torg.reactivestreams#reactive-streams;1.0.4 from central in [default]\n",
                  "\torg.slf4j#slf4j-api;2.0.6 from central in [default]\n",
                  "\torg.xerial.snappy#snappy-java;1.1.9.1 from central in [default]\n",
                  "\t---------------------------------------------------------------------\n",
                  "\t|                  |            modules            ||   artifacts   |\n",
                  "\t|       conf       | number| search|dwnlded|evicted|| number|dwnlded|\n",
                  "\t---------------------------------------------------------------------\n",
                  "\t|      default     |   18  |   0   |   0   |   0   ||   18  |   0   |\n",
                  "\t---------------------------------------------------------------------\n",
                  ":: retrieving :: org.apache.spark#spark-submit-parent-a3b21036-093d-415e-b5a9-f45104794319\n",
                  "\tconfs: [default]\n",
                  "\t0 artifacts copied, 18 already retrieved (0kB/26ms)\n"
               ]
            },
            {
               "name": "stdout",
               "output_type": "stream",
               "text": [
                  "23/06/01 14:31:05 WARN NativeCodeLoader: Unable to load native-hadoop library for your platform... using builtin-java classes where applicable\n"
               ]
            },
            {
               "name": "stderr",
               "output_type": "stream",
               "text": [
                  "Setting default log level to \"WARN\".\n",
                  "To adjust logging level use sc.setLogLevel(newLevel). For SparkR, use setLogLevel(newLevel).\n"
               ]
            }
         ],
         "source": [
            "spark = (\n",
            "    SparkSession.builder.appName(\"Final assignment\")\n",
            "    .config(\"spark.jars.packages\", \",\".join(packages))\n",
            "    .getOrCreate()\n",
            ")"
         ]
      },
      {
         "cell_type": "code",
         "execution_count": 16,
         "metadata": {},
         "outputs": [],
         "source": [
            "producer = KafkaProducer(bootstrap_servers=\"localhost:9092\")\n",
            "spark.sparkContext.setLogLevel(\"ERROR\")"
         ]
      },
      {
         "cell_type": "code",
         "execution_count": 17,
         "metadata": {},
         "outputs": [
            {
               "data": {
                  "text/plain": [
                     "<kafka.producer.future.FutureRecordMetadata at 0x7faea2d6b1f0>"
                  ]
               },
               "execution_count": 17,
               "metadata": {},
               "output_type": "execute_result"
            }
         ],
         "source": [
            "producer.send(\"tracks_topic\", b\"\")\n",
            "producer.send(\"mood_prediction\", b\"\")\n",
            "producer.send(\"audio_features_topic\", b\"\")"
         ]
      },
      {
         "cell_type": "code",
         "execution_count": 18,
         "metadata": {},
         "outputs": [],
         "source": [
            "df = (\n",
            "    spark.readStream.format(\"kafka\")\n",
            "    .option(\"kafka.bootstrap.servers\", \"localhost:9092\")\n",
            "    .option(\"subscribe\", \"tracks_topic, mood_prediction, audio_features_topic\")\n",
            "    .option(\"startingOffsets\", \"latest\")\n",
            "    .load()\n",
            ")"
         ]
      },
      {
         "cell_type": "code",
         "execution_count": 19,
         "metadata": {},
         "outputs": [],
         "source": [
            "tracks_schema = StructType(\n",
            "    [\n",
            "        StructField(\"id\", StringType()),\n",
            "        StructField(\"name\", StringType()),\n",
            "        StructField(\"artists\", ArrayType(\n",
            "            StructType([\n",
            "                StructField(\"id\", StringType()),\n",
            "                StructField(\"name\", StringType())\n",
            "            ])\n",
            "        )),\n",
            "        StructField(\"duration_ms\", StringType())\n",
            "    ]\n",
            ")       \n",
            "\n",
            "\n",
            "mood_prediction_schema = StructType(\n",
            "    [\n",
            "        StructField(\"id\", StringType()),\n",
            "        StructField(\"mood\", StringType())\n",
            "    ]\n",
            ")\n",
            "\n",
            "audio_features_schema = StructType(\n",
            "    [\n",
            "        StructField(\"id\", StringType(), True),\n",
            "        StructField(\"danceability\", FloatType(), True),\n",
            "        StructField(\"energy\", FloatType(), True),\n",
            "        StructField(\"key\", IntegerType(), True),\n",
            "        StructField(\"loudness\", FloatType(), True),\n",
            "        StructField(\"mode\", IntegerType(), True),\n",
            "        StructField(\"speechiness\", FloatType(), True),\n",
            "        StructField(\"acousticness\", FloatType(), True),\n",
            "        StructField(\"instrumentalness\", FloatType(), True),\n",
            "        StructField(\"liveness\", FloatType(), True),\n",
            "        StructField(\"valence\", FloatType(), True),\n",
            "        StructField(\"tempo\", FloatType(), True),\n",
            "        StructField(\"mood\", IntegerType(), True),\n",
            "    ]\n",
            ")\n"
         ]
      },
      {
         "cell_type": "code",
         "execution_count": 20,
         "metadata": {},
         "outputs": [],
         "source": [
            "tracks_stream = (\n",
            "    df.selectExpr(\"CAST(value AS STRING)\")\n",
            "    .filter(\"topic = 'tracks_topic'\")\n",
            "    .select(from_json(\"value\", tracks_schema).alias(\"data\"))\n",
            "    .select(\"data.*\")\n",
            ")\n",
            "\n",
            "mood_prediction_stream = (\n",
            "    df.selectExpr(\"CAST(value AS STRING)\")\n",
            "    .select(from_json(\"value\", mood_prediction_schema).alias(\"data\"))\n",
            "    .select(\"data.*\")\n",
            ")\n",
            "\n",
            "audio_features_stream = (\n",
            "    df.selectExpr(\"CAST(value AS STRING)\")\n",
            "    .select(from_json(\"value\", audio_features_schema).alias(\"data\"))\n",
            "    .select(\"data.*\")\n",
            ")"
         ]
      },
      {
         "cell_type": "code",
         "execution_count": 48,
         "metadata": {},
         "outputs": [],
         "source": [
            "tracks_query = (\n",
            "    tracks_stream.writeStream.format(\"memory\")\n",
            "    .queryName(\"tracks\")\n",
            "    .start()\n",
            ")\n",
            "\n",
            "mood_prediction_query = (\n",
            "    mood_prediction_stream.writeStream.format(\"memory\")\n",
            "    .queryName(\"mood_prediction\")\n",
            "    .start()\n",
            ")\n",
            "\n",
            "audio_features_query = (\n",
            "    audio_features_stream.writeStream.format(\"memory\")\n",
            "    .queryName(\"audio_features\")\n",
            "    .start()\n",
            ")"
         ]
      },
      {
         "cell_type": "code",
         "execution_count": 81,
         "metadata": {},
         "outputs": [],
         "source": [
            "# tracks_query.stop()\n",
            "# number_of_clusters_query.stop()\n",
            "# audio_features_query.stop()"
         ]
      },
      {
         "cell_type": "code",
         "execution_count": 22,
         "metadata": {},
         "outputs": [
            {
               "name": "stderr",
               "output_type": "stream",
               "text": [
                  "                                                                                \r"
               ]
            },
            {
               "name": "stderr",
               "output_type": "stream",
               "text": [
                  "                                                                                \r"
               ]
            }
         ],
         "source": [
            "for track in tracks:\n",
            "    producer.send(\"tracks_topic\", json.dumps(track['track']).encode(\"utf-8\"))\n",
            "\n",
            "for audio in audio_features:\n",
            "    producer.send(\"audio_features_topic\", json.dumps(audio).encode(\"utf-8\"))"
         ]
      },
      {
         "cell_type": "code",
         "execution_count": 23,
         "metadata": {},
         "outputs": [],
         "source": [
            "tracks_spark = spark.sql(\"select * from tracks\")"
         ]
      },
      {
         "cell_type": "code",
         "execution_count": 24,
         "metadata": {},
         "outputs": [
            {
               "name": "stdout",
               "output_type": "stream",
               "text": [
                  "+----------------------+---------------------------------------+--------------------------------------------------------------------------------------+-----------+\n",
                  "|id                    |name                                   |artists                                                                               |duration_ms|\n",
                  "+----------------------+---------------------------------------+--------------------------------------------------------------------------------------+-----------+\n",
                  "|0rzaRSujxA0bKyjJl6vHYq|Satellite                              |[{6KImCVD70vtIoJWnq6nGn3, Harry Styles}]                                              |218577     |\n",
                  "|5jQI2r1RdgtuT8S3iG8zFC|Lavender Haze                          |[{06HL4z0CvFAxyc27GXpf02, Taylor Swift}]                                              |202395     |\n",
                  "|1l4iQsOZ5sOXZPMQLvouaB|Coast (feat. Anderson .Paak)           |[{5p7f24Rk5HkUZsaS3BLG5F, Hailee Steinfeld}, {3jK9MiCrA42lLAdMGUZpwa, Anderson .Paak}]|166720     |\n",
                  "|6maTPqynTmrkWIralgGaoP|If We Ever Broke Up                    |[{311uEW9rt5g2NmzjGEKS2E, Mae Stephens}]                                              |142758     |\n",
                  "|6dgUya35uo964z7GZXM07g|Nonsense                               |[{74KM79TiuVKeVCqs8QtB0B, Sabrina Carpenter}]                                         |163648     |\n",
                  "|52Rfxu5AUNMV1qhhC2ZCkb|Meltdown                               |[{1Hsdzj7Dlq2I7tHP7501T4, Niall Horan}]                                               |153037     |\n",
                  "|5c6lM2zjAF6MFoD8C1hiBr|Clarity                                |[{10exVja0key0uqUkk6LJRT, Vance Joy}]                                                 |227240     |\n",
                  "|2rmwqU7yzTvzkiaRV53DpT|2 Be Loved (Am I Ready)                |[{56oDRnqbIiwx4mymNEv7dS, Lizzo}]                                                     |187107     |\n",
                  "|2GiJYvgVaD2HtM8GqD9EgQ|Electric Love                          |[{1KP6TWI40m7p3QBTU6u2xo, BØRNS}]                                                     |218106     |\n",
                  "|1vYXt7VSjH9JIM5oRRo7vA|Dance The Night (From Barbie The Album)|[{6M2wZ9GZgrQXHCFfjv46we, Dua Lipa}]                                                  |176579     |\n",
                  "+----------------------+---------------------------------------+--------------------------------------------------------------------------------------+-----------+\n",
                  "only showing top 10 rows\n",
                  "\n"
               ]
            }
         ],
         "source": [
            "tracks_spark.show(10, False)"
         ]
      },
      {
         "cell_type": "code",
         "execution_count": 25,
         "metadata": {},
         "outputs": [],
         "source": [
            "audio_features_spark = spark.sql(\"select * from audio_features\")"
         ]
      },
      {
         "cell_type": "code",
         "execution_count": 26,
         "metadata": {},
         "outputs": [
            {
               "name": "stdout",
               "output_type": "stream",
               "text": [
                  "+----------------------+------------+------+----+--------+----+-----------+------------+----------------+--------+-------+-----+----+\n",
                  "|id                    |danceability|energy|key |loudness|mode|speechiness|acousticness|instrumentalness|liveness|valence|tempo|mood|\n",
                  "+----------------------+------------+------+----+--------+----+-----------+------------+----------------+--------+-------+-----+----+\n",
                  "|0rzaRSujxA0bKyjJl6vHYq|null        |null  |null|null    |null|null       |null        |null            |null    |null   |null |null|\n",
                  "|5jQI2r1RdgtuT8S3iG8zFC|null        |null  |null|null    |null|null       |null        |null            |null    |null   |null |null|\n",
                  "|1l4iQsOZ5sOXZPMQLvouaB|null        |null  |null|null    |null|null       |null        |null            |null    |null   |null |null|\n",
                  "|6maTPqynTmrkWIralgGaoP|null        |null  |null|null    |null|null       |null        |null            |null    |null   |null |null|\n",
                  "|6dgUya35uo964z7GZXM07g|null        |null  |null|null    |null|null       |null        |null            |null    |null   |null |null|\n",
                  "|52Rfxu5AUNMV1qhhC2ZCkb|null        |null  |null|null    |null|null       |null        |null            |null    |null   |null |null|\n",
                  "|5c6lM2zjAF6MFoD8C1hiBr|null        |null  |null|null    |null|null       |null        |null            |null    |null   |null |null|\n",
                  "|2rmwqU7yzTvzkiaRV53DpT|null        |null  |null|null    |null|null       |null        |null            |null    |null   |null |null|\n",
                  "|2GiJYvgVaD2HtM8GqD9EgQ|null        |null  |null|null    |null|null       |null        |null            |null    |null   |null |null|\n",
                  "|1vYXt7VSjH9JIM5oRRo7vA|null        |null  |null|null    |null|null       |null        |null            |null    |null   |null |null|\n",
                  "+----------------------+------------+------+----+--------+----+-----------+------------+----------------+--------+-------+-----+----+\n",
                  "only showing top 10 rows\n",
                  "\n"
               ]
            }
         ],
         "source": [
            "audio_features_spark.show(10, False)"
         ]
      },
      {
         "cell_type": "code",
         "execution_count": 31,
         "metadata": {},
         "outputs": [],
         "source": [
            "def transform_data(df, assembler, scaler):\n",
            "    df = df.dropna()\n",
            "    df = df.drop('id')\n",
            "    assembled_data = assembler.transform(df)\n",
            "    scaler_model = scaler.fit(assembled_data)\n",
            "    scaled_data = scaler_model.transform(assembled_data)\n",
            "    return scaled_data"
         ]
      },
      {
         "cell_type": "code",
         "execution_count": null,
         "metadata": {},
         "outputs": [],
         "source": [
            "vectorAssembler = VectorAssembler(inputCols = ['danceability', 'energy', 'key', 'loudness', 'mode', 'speechiness', 'acousticness', 'instrumentalness', 'liveness', 'valence', 'tempo'], outputCol = 'features')\n",
            "scaler = MinMaxScaler(inputCol=\"features\", outputCol=\"scaledFeatures\")\n",
            "scaled_train = transform_data(audio_features_spark, vectorAssembler, scaler)"
         ]
      },
      {
         "cell_type": "code",
         "execution_count": 29,
         "metadata": {},
         "outputs": [],
         "source": [
            "nb = NaiveBayes(smoothing=1.0, modelType=\"multinomial\", labelCol=\"mood\", featuresCol=\"scaledFeatures\")"
         ]
      },
      {
         "cell_type": "code",
         "execution_count": 103,
         "metadata": {},
         "outputs": [],
         "source": [
            "model = nb.fit(scaled_train)"
         ]
      },
      {
         "cell_type": "code",
         "execution_count": 42,
         "metadata": {},
         "outputs": [],
         "source": [
            "def predict_mood(model, track):\n",
            "    # audio = sp.audio_features(track['id'])[0] #uncomment if spotify api is working\n",
            "    # scaled_audio = transform_data(spark.createDataFrame([audio]), vectorAssembler, scaler)\n",
            "    # prediction = model.predict(scaled_audio.select('scaledFeatures').collect()[0][0])\n",
            "    # return {'id': track['id'], 'mood': moods[int(prediction)]}\n",
            "    prediction_dict = {'id': track['id'], 'mood': moods[randint(0, 1)]} #comment this if spotify api is working\n",
            "    return prediction_dict"
         ]
      },
      {
         "cell_type": "code",
         "execution_count": 33,
         "metadata": {},
         "outputs": [],
         "source": [
            "model = 1 #comment this if spotify api is working"
         ]
      },
      {
         "cell_type": "code",
         "execution_count": null,
         "metadata": {},
         "outputs": [],
         "source": [
            "prev_song = None\n",
            "while True:\n",
            "    current_track = sp.current_user_playing_track()\n",
            "    if current_track is not None:\n",
            "        if prev_song != current_track['item']['id']:\n",
            "            prediction = predict_mood(model, current_track['item'])\n",
            "            producer.send(\"mood_prediction\", json.dumps(prediction).encode(\"utf-8\"))\n",
            "            prev_song = current_track['item']['id']\n",
            "    else:\n",
            "        prev_song = None"
         ]
      },
      {
         "cell_type": "code",
         "execution_count": 52,
         "metadata": {},
         "outputs": [],
         "source": [
            "mood_predictions_spark = spark.sql(\"select * from mood_prediction\") "
         ]
      },
      {
         "cell_type": "code",
         "execution_count": 53,
         "metadata": {},
         "outputs": [
            {
               "name": "stdout",
               "output_type": "stream",
               "text": [
                  "+----------------------+-----+\n",
                  "|id                    |mood |\n",
                  "+----------------------+-----+\n",
                  "|0BaFtki3CupqritofvTRSj|happy|\n",
                  "+----------------------+-----+\n",
                  "\n"
               ]
            }
         ],
         "source": [
            "mood_predictions_spark.show(10, False)"
         ]
      }
   ],
   "metadata": {
      "kernelspec": {
         "display_name": "Python 3",
         "language": "python",
         "name": "python3"
      },
      "language_info": {
         "codemirror_mode": {
            "name": "ipython",
            "version": 3
         },
         "file_extension": ".py",
         "mimetype": "text/x-python",
         "name": "python",
         "nbconvert_exporter": "python",
         "pygments_lexer": "ipython3",
         "version": "3.10.6"
      },
      "orig_nbformat": 4
   },
   "nbformat": 4,
   "nbformat_minor": 2
}
