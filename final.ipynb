{
 "cells": [
  {
   "cell_type": "code",
   "execution_count": 91,
   "metadata": {},
   "outputs": [],
   "source": [
    "# Importing necessary libraries and settings\n",
    "import os\n",
    "import pandas as pd\n",
    "import numpy as np\n",
    "import json\n",
    "import matplotlib.pyplot as plt\n",
    "import seaborn as sns\n",
    "%config InlineBackend.figure_format ='retina'\n",
    "import random\n",
    "from functools import reduce\n",
    "import spotipy\n",
    "import spotipy.util as util\n",
    "from spotipy.oauth2 import SpotifyClientCredentials\n",
    "from spotipy import oauth2\n",
    "\n",
    "from kafka import KafkaProducer\n",
    "from pyspark.sql import SparkSession\n",
    "from pyspark.sql.functions import from_json\n",
    "from pyspark.sql.types import (\n",
    "    StructType,\n",
    "    StructField,\n",
    "    StringType,\n",
    "    IntegerType,\n",
    "    FloatType,\n",
    "    ArrayType,\n",
    ")\n",
    "from pyspark.ml.classification import RandomForestClassifier"
   ]
  },
  {
   "cell_type": "code",
   "execution_count": 92,
   "metadata": {},
   "outputs": [],
   "source": [
    "packages = {\n",
    "    \"org.apache.spark:spark-sql-kafka-0-10_2.12:3.4.0,org.neo4j:neo4j-connector-apache-spark_2.12:5.0.2_for_spark_3\"\n",
    "}"
   ]
  },
  {
   "cell_type": "code",
   "execution_count": 93,
   "metadata": {},
   "outputs": [],
   "source": [
    "cid = 'xxxxxxxxxxxxxxxxxxxxxxxxxxxxxxxx'\n",
    "secret = 'xxxxxxxxxxxxxxxxxxxxxxxxxxxxxxxx'\n",
    "redirect_uri='http://localhost:7777/callback'\n",
    "username = 'vass.zora'"
   ]
  },
  {
   "cell_type": "code",
   "execution_count": 94,
   "metadata": {},
   "outputs": [],
   "source": [
    "# Once the Authorisation is complete, we just need to `sp` to call the APIs\n",
    "scope = 'user-top-read user-read-private playlist-modify-private playlist-modify-public user-read-currently-playing'\n",
    "token = util.prompt_for_user_token(username, scope, client_id=cid, client_secret=secret, redirect_uri=redirect_uri)\n",
    "\n",
    "if token:\n",
    "    sp = spotipy.Spotify(auth=token)\n",
    "else:\n",
    "    print(\"Can't get token for\", username)"
   ]
  },
  {
   "cell_type": "code",
   "execution_count": 5,
   "metadata": {},
   "outputs": [],
   "source": [
    "# Creating a function to get tracks IDs from a playlist\n",
    "def get_playlist_tracks(username,playlist_id):\n",
    "    results = sp.user_playlist_tracks(username,playlist_id)\n",
    "    tracks = results['items']\n",
    "    while results['next']:\n",
    "        results = sp.next(results)\n",
    "        tracks.extend(results['items'])\n",
    "    return tracks"
   ]
  },
  {
   "cell_type": "code",
   "execution_count": 6,
   "metadata": {},
   "outputs": [],
   "source": [
    "# Getting playlist IDs from each of Spotify's playlists #TODO add to method\n",
    "playlists = sp.user_playlists(username)\n",
    "spotify_playlist_ids = []\n",
    "while playlists:\n",
    "    for i, playlist in enumerate(playlists['items']):\n",
    "        spotify_playlist_ids.append(playlist['uri'][-22:])\n",
    "    if playlists['next']:\n",
    "        playlists = sp.next(playlists)\n",
    "    else:\n",
    "        playlists = None"
   ]
  },
  {
   "cell_type": "code",
   "execution_count": 97,
   "metadata": {},
   "outputs": [],
   "source": [
    "current_tracks = sp.current_user_playing_track()"
   ]
  },
  {
   "cell_type": "code",
   "execution_count": 106,
   "metadata": {},
   "outputs": [],
   "source": [
    "playlist_id_mood_dict = {\n",
    "    'sad': '37i9dQZF1DX3rxVfibe1L0',\n",
    "    'happy': '37i9dQZF1DX4uPi2roRUwU',\n",
    "    'chill': '37i9dQZF1DWWQRwui0ExPn',\n",
    "    'angry': '37i9dQZF1DX3ND264N08pv',\n",
    "    'romantic': '37i9dQZF1DX7rOY2tZUw1k',\n",
    "}"
   ]
  },
  {
   "cell_type": "code",
   "execution_count": 112,
   "metadata": {},
   "outputs": [],
   "source": [
    "moods = ['sad', 'happy', 'chill', 'angry', 'romantic']\n",
    "\n",
    "# Getting tracks from each playlist\n",
    "tracks = []\n",
    "audio_features = []\n",
    "for mood in moods:\n",
    "    current_tracks = get_playlist_tracks(username, playlist_id_mood_dict[mood])\n",
    "    tracks.append(current_tracks)\n",
    "    for track in current_tracks:\n",
    "        current_audio = sp.audio_features(track['track']['id'])[0]\n",
    "        current_audio['mood'] = moods.index(mood)\n",
    "        audio_features.append(current_audio)"
   ]
  },
  {
   "cell_type": "code",
   "execution_count": 9,
   "metadata": {},
   "outputs": [
    {
     "name": "stdout",
     "output_type": "stream",
     "text": [
      "23/05/31 09:47:45 WARN Utils: Your hostname, HP-Elite830 resolves to a loopback address: 127.0.1.1; using 192.168.1.18 instead (on interface wlp1s0)\n",
      "23/05/31 09:47:45 WARN Utils: Set SPARK_LOCAL_IP if you need to bind to another address\n",
      ":: loading settings :: url = jar:file:/home/vaszo/.local/lib/python3.10/site-packages/pyspark/jars/ivy-2.5.1.jar!/org/apache/ivy/core/settings/ivysettings.xml\n"
     ]
    },
    {
     "name": "stderr",
     "output_type": "stream",
     "text": [
      "Ivy Default Cache set to: /home/vaszo/.ivy2/cache\n",
      "The jars for the packages stored in: /home/vaszo/.ivy2/jars\n",
      "org.apache.spark#spark-sql-kafka-0-10_2.12 added as a dependency\n",
      "org.neo4j#neo4j-connector-apache-spark_2.12 added as a dependency\n",
      ":: resolving dependencies :: org.apache.spark#spark-submit-parent-165d07cb-ede7-4f92-9e99-58a295385e55;1.0\n",
      "\tconfs: [default]\n",
      "\tfound org.apache.spark#spark-sql-kafka-0-10_2.12;3.4.0 in central\n",
      "\tfound org.apache.spark#spark-token-provider-kafka-0-10_2.12;3.4.0 in central\n",
      "\tfound org.apache.kafka#kafka-clients;3.3.2 in central\n",
      "\tfound org.lz4#lz4-java;1.8.0 in central\n",
      "\tfound org.xerial.snappy#snappy-java;1.1.9.1 in central\n",
      "\tfound org.slf4j#slf4j-api;2.0.6 in central\n",
      "\tfound org.apache.hadoop#hadoop-client-runtime;3.3.4 in central\n",
      "\tfound org.apache.hadoop#hadoop-client-api;3.3.4 in central\n",
      "\tfound commons-logging#commons-logging;1.1.3 in central\n",
      "\tfound com.google.code.findbugs#jsr305;3.0.0 in central\n",
      "\tfound org.apache.commons#commons-pool2;2.11.1 in local-m2-cache\n",
      "\tfound org.neo4j#neo4j-connector-apache-spark_2.12;5.0.2_for_spark_3 in central\n",
      "\tfound org.neo4j#neo4j-connector-apache-spark_2.12_common;5.0.2 in central\n",
      "\tfound org.neo4j.driver#neo4j-java-driver;4.4.11 in central\n",
      "\tfound org.reactivestreams#reactive-streams;1.0.4 in central\n",
      "\tfound org.apache.xbean#xbean-asm6-shaded;4.10 in central\n",
      "\tfound org.neo4j#neo4j-cypher-dsl;2020.1.4 in central\n",
      "\tfound org.apiguardian#apiguardian-api;1.1.0 in central\n",
      ":: resolution report :: resolve 1631ms :: artifacts dl 64ms\n",
      "\t:: modules in use:\n",
      "\tcom.google.code.findbugs#jsr305;3.0.0 from central in [default]\n",
      "\tcommons-logging#commons-logging;1.1.3 from central in [default]\n",
      "\torg.apache.commons#commons-pool2;2.11.1 from local-m2-cache in [default]\n",
      "\torg.apache.hadoop#hadoop-client-api;3.3.4 from central in [default]\n",
      "\torg.apache.hadoop#hadoop-client-runtime;3.3.4 from central in [default]\n",
      "\torg.apache.kafka#kafka-clients;3.3.2 from central in [default]\n",
      "\torg.apache.spark#spark-sql-kafka-0-10_2.12;3.4.0 from central in [default]\n",
      "\torg.apache.spark#spark-token-provider-kafka-0-10_2.12;3.4.0 from central in [default]\n",
      "\torg.apache.xbean#xbean-asm6-shaded;4.10 from central in [default]\n",
      "\torg.apiguardian#apiguardian-api;1.1.0 from central in [default]\n",
      "\torg.lz4#lz4-java;1.8.0 from central in [default]\n",
      "\torg.neo4j#neo4j-connector-apache-spark_2.12;5.0.2_for_spark_3 from central in [default]\n",
      "\torg.neo4j#neo4j-connector-apache-spark_2.12_common;5.0.2 from central in [default]\n",
      "\torg.neo4j#neo4j-cypher-dsl;2020.1.4 from central in [default]\n",
      "\torg.neo4j.driver#neo4j-java-driver;4.4.11 from central in [default]\n",
      "\torg.reactivestreams#reactive-streams;1.0.4 from central in [default]\n",
      "\torg.slf4j#slf4j-api;2.0.6 from central in [default]\n",
      "\torg.xerial.snappy#snappy-java;1.1.9.1 from central in [default]\n",
      "\t---------------------------------------------------------------------\n",
      "\t|                  |            modules            ||   artifacts   |\n",
      "\t|       conf       | number| search|dwnlded|evicted|| number|dwnlded|\n",
      "\t---------------------------------------------------------------------\n",
      "\t|      default     |   18  |   0   |   0   |   0   ||   18  |   0   |\n",
      "\t---------------------------------------------------------------------\n",
      ":: retrieving :: org.apache.spark#spark-submit-parent-165d07cb-ede7-4f92-9e99-58a295385e55\n",
      "\tconfs: [default]\n",
      "\t0 artifacts copied, 18 already retrieved (0kB/30ms)\n"
     ]
    },
    {
     "name": "stdout",
     "output_type": "stream",
     "text": [
      "23/05/31 09:47:48 WARN NativeCodeLoader: Unable to load native-hadoop library for your platform... using builtin-java classes where applicable\n"
     ]
    },
    {
     "name": "stderr",
     "output_type": "stream",
     "text": [
      "Setting default log level to \"WARN\".\n",
      "To adjust logging level use sc.setLogLevel(newLevel). For SparkR, use setLogLevel(newLevel).\n"
     ]
    }
   ],
   "source": [
    "spark = (\n",
    "    SparkSession.builder.appName(\"Final assignment\")\n",
    "    .config(\"spark.jars.packages\", \",\".join(packages))\n",
    "    .getOrCreate()\n",
    ")"
   ]
  },
  {
   "cell_type": "code",
   "execution_count": 10,
   "metadata": {},
   "outputs": [],
   "source": [
    "producer = KafkaProducer(bootstrap_servers=\"localhost:9092\")\n",
    "spark.sparkContext.setLogLevel(\"ERROR\")"
   ]
  },
  {
   "cell_type": "code",
   "execution_count": 63,
   "metadata": {},
   "outputs": [
    {
     "data": {
      "text/plain": [
       "<kafka.producer.future.FutureRecordMetadata at 0x7fdad1366080>"
      ]
     },
     "execution_count": 63,
     "metadata": {},
     "output_type": "execute_result"
    }
   ],
   "source": [
    "producer.send(\"tracks_topic\", b\"\")\n",
    "producer.send(\"number_of_clusters\", b\"\")\n",
    "producer.send(\"audio_features_topic\", b\"\")"
   ]
  },
  {
   "cell_type": "code",
   "execution_count": 12,
   "metadata": {},
   "outputs": [],
   "source": [
    "df = (\n",
    "    spark.readStream.format(\"kafka\")\n",
    "    .option(\"kafka.bootstrap.servers\", \"localhost:9092\")\n",
    "    .option(\"subscribe\", \"tracks_topic, number_of_clusters, audio_features_topic\")\n",
    "    .option(\"startingOffsets\", \"latest\")\n",
    "    .load()\n",
    ")"
   ]
  },
  {
   "cell_type": "code",
   "execution_count": 101,
   "metadata": {},
   "outputs": [
    {
     "data": {
      "text/plain": [
       "{'added_at': '2019-09-08T19:03:51Z',\n",
       " 'added_by': {'external_urls': {'spotify': 'https://open.spotify.com/user/vass.zora'},\n",
       "  'href': 'https://api.spotify.com/v1/users/vass.zora',\n",
       "  'id': 'vass.zora',\n",
       "  'type': 'user',\n",
       "  'uri': 'spotify:user:vass.zora'},\n",
       " 'is_local': False,\n",
       " 'primary_color': None,\n",
       " 'track': {'album': {'album_type': 'album',\n",
       "   'artists': [{'external_urls': {'spotify': 'https://open.spotify.com/artist/6sHCvZe1PHrOAuYlwTLNH4'},\n",
       "     'href': 'https://api.spotify.com/v1/artists/6sHCvZe1PHrOAuYlwTLNH4',\n",
       "     'id': '6sHCvZe1PHrOAuYlwTLNH4',\n",
       "     'name': 'Gus Dapperton',\n",
       "     'type': 'artist',\n",
       "     'uri': 'spotify:artist:6sHCvZe1PHrOAuYlwTLNH4'}],\n",
       "   'available_markets': [],\n",
       "   'external_urls': {'spotify': 'https://open.spotify.com/album/4qSYIc2q02zeCN2fB2hBBR'},\n",
       "   'href': 'https://api.spotify.com/v1/albums/4qSYIc2q02zeCN2fB2hBBR',\n",
       "   'id': '4qSYIc2q02zeCN2fB2hBBR',\n",
       "   'images': [{'height': 640,\n",
       "     'url': 'https://i.scdn.co/image/ab67616d0000b27361d8be1be46d21609f68d476',\n",
       "     'width': 640},\n",
       "    {'height': 300,\n",
       "     'url': 'https://i.scdn.co/image/ab67616d00001e0261d8be1be46d21609f68d476',\n",
       "     'width': 300},\n",
       "    {'height': 64,\n",
       "     'url': 'https://i.scdn.co/image/ab67616d0000485161d8be1be46d21609f68d476',\n",
       "     'width': 64}],\n",
       "   'name': 'Where Polly People Go to Read',\n",
       "   'release_date': '2019-04-19',\n",
       "   'release_date_precision': 'day',\n",
       "   'total_tracks': 10,\n",
       "   'type': 'album',\n",
       "   'uri': 'spotify:album:4qSYIc2q02zeCN2fB2hBBR'},\n",
       "  'artists': [{'external_urls': {'spotify': 'https://open.spotify.com/artist/6sHCvZe1PHrOAuYlwTLNH4'},\n",
       "    'href': 'https://api.spotify.com/v1/artists/6sHCvZe1PHrOAuYlwTLNH4',\n",
       "    'id': '6sHCvZe1PHrOAuYlwTLNH4',\n",
       "    'name': 'Gus Dapperton',\n",
       "    'type': 'artist',\n",
       "    'uri': 'spotify:artist:6sHCvZe1PHrOAuYlwTLNH4'}],\n",
       "  'available_markets': [],\n",
       "  'disc_number': 1,\n",
       "  'duration_ms': 173742,\n",
       "  'episode': False,\n",
       "  'explicit': False,\n",
       "  'external_ids': {'isrc': 'GBWWP1904786'},\n",
       "  'external_urls': {'spotify': 'https://open.spotify.com/track/227bXIqHWP8Z7gycUGO1sY'},\n",
       "  'href': 'https://api.spotify.com/v1/tracks/227bXIqHWP8Z7gycUGO1sY',\n",
       "  'id': '227bXIqHWP8Z7gycUGO1sY',\n",
       "  'is_local': False,\n",
       "  'name': 'Coax & Botany',\n",
       "  'popularity': 0,\n",
       "  'preview_url': None,\n",
       "  'track': True,\n",
       "  'track_number': 5,\n",
       "  'type': 'track',\n",
       "  'uri': 'spotify:track:227bXIqHWP8Z7gycUGO1sY'},\n",
       " 'video_thumbnail': {'url': None}}"
      ]
     },
     "execution_count": 101,
     "metadata": {},
     "output_type": "execute_result"
    }
   ],
   "source": [
    "tracks[0]"
   ]
  },
  {
   "cell_type": "code",
   "execution_count": 82,
   "metadata": {},
   "outputs": [],
   "source": [
    "tracks_schema = StructType(\n",
    "    [\n",
    "        StructField(\"id\", StringType()),\n",
    "        StructField(\"name\", StringType()),\n",
    "        StructField(\"artists\", ArrayType(\n",
    "            StructType([\n",
    "                StructField(\"id\", StringType()),\n",
    "                StructField(\"name\", StringType())\n",
    "            ])\n",
    "        )),\n",
    "        StructField(\"duration_ms\", StringType())\n",
    "    ]\n",
    ")       \n",
    "\n",
    "\n",
    "number_of_clusters_schema = StructType(\n",
    "    [\n",
    "        StructField(\"K\", IntegerType())\n",
    "    ]\n",
    ")\n",
    "\n",
    "audio_features_schema = StructType(\n",
    "    [\n",
    "        StructField(\"id\", StringType(), True),\n",
    "        StructField(\"danceability\", FloatType(), True),\n",
    "        StructField(\"energy\", FloatType(), True),\n",
    "        StructField(\"key\", IntegerType(), True),\n",
    "        StructField(\"loudness\", FloatType(), True),\n",
    "        StructField(\"mode\", IntegerType(), True),\n",
    "        StructField(\"speechiness\", FloatType(), True),\n",
    "        StructField(\"acousticness\", FloatType(), True),\n",
    "        StructField(\"instrumentalness\", FloatType(), True),\n",
    "        StructField(\"liveness\", FloatType(), True),\n",
    "        StructField(\"valence\", FloatType(), True),\n",
    "        StructField(\"tempo\", FloatType(), True),\n",
    "    ]\n",
    ")\n"
   ]
  },
  {
   "cell_type": "code",
   "execution_count": 102,
   "metadata": {},
   "outputs": [
    {
     "data": {
      "text/plain": [
       "{'danceability': 0.663,\n",
       " 'energy': 0.623,\n",
       " 'key': 11,\n",
       " 'loudness': -5.283,\n",
       " 'mode': 1,\n",
       " 'speechiness': 0.0239,\n",
       " 'acousticness': 0.14,\n",
       " 'instrumentalness': 0,\n",
       " 'liveness': 0.0918,\n",
       " 'valence': 0.773,\n",
       " 'tempo': 81.513,\n",
       " 'type': 'audio_features',\n",
       " 'id': '227bXIqHWP8Z7gycUGO1sY',\n",
       " 'uri': 'spotify:track:227bXIqHWP8Z7gycUGO1sY',\n",
       " 'track_href': 'https://api.spotify.com/v1/tracks/227bXIqHWP8Z7gycUGO1sY',\n",
       " 'analysis_url': 'https://api.spotify.com/v1/audio-analysis/227bXIqHWP8Z7gycUGO1sY',\n",
       " 'duration_ms': 173742,\n",
       " 'time_signature': 4}"
      ]
     },
     "execution_count": 102,
     "metadata": {},
     "output_type": "execute_result"
    }
   ],
   "source": [
    "37i9dQZF1DX7qK8ma5wgG1"
   ]
  },
  {
   "cell_type": "code",
   "execution_count": 83,
   "metadata": {},
   "outputs": [],
   "source": [
    "tracks_stream = (\n",
    "    df.selectExpr(\"CAST(value AS STRING)\")\n",
    "    .filter(\"topic = 'tracks_topic'\")\n",
    "    .select(from_json(\"value\", tracks_schema).alias(\"data\"))\n",
    "    .select(\"data.*\")\n",
    ")\n",
    "\n",
    "number_of_clusters_stream = (\n",
    "    df.selectExpr(\"CAST(value AS STRING)\")\n",
    "    .select(from_json(\"value\", number_of_clusters_schema).alias(\"data\"))\n",
    "    .select(\"data.*\")\n",
    ")\n",
    "\n",
    "audio_features_stream = (\n",
    "    df.selectExpr(\"CAST(value AS STRING)\")\n",
    "    .select(from_json(\"value\", audio_features_schema).alias(\"data\"))\n",
    "    .select(\"data.*\")\n",
    ")"
   ]
  },
  {
   "cell_type": "code",
   "execution_count": 84,
   "metadata": {},
   "outputs": [],
   "source": [
    "tracks_query = (\n",
    "    tracks_stream.writeStream.format(\"memory\")\n",
    "    .queryName(\"tracks\")\n",
    "    .start()\n",
    ")\n",
    "\n",
    "number_of_clusters_query = (\n",
    "    number_of_clusters_stream.writeStream.format(\"memory\")\n",
    "    .queryName(\"number_of_clusters\")\n",
    "    .start()\n",
    ")\n",
    "\n",
    "audio_features_query = (\n",
    "    audio_features_stream.writeStream.format(\"memory\")\n",
    "    .queryName(\"audio_features\")\n",
    "    .start()\n",
    ")"
   ]
  },
  {
   "cell_type": "code",
   "execution_count": 81,
   "metadata": {},
   "outputs": [],
   "source": [
    "# tracks_query.stop()\n",
    "# number_of_clusters_query.stop()\n",
    "# audio_features_query.stop()"
   ]
  },
  {
   "cell_type": "code",
   "execution_count": 85,
   "metadata": {},
   "outputs": [
    {
     "name": "stderr",
     "output_type": "stream",
     "text": [
      "                                                                                \r"
     ]
    }
   ],
   "source": [
    "for track in tracks:\n",
    "    producer.send(\"tracks_topic\", json.dumps(track['track']).encode(\"utf-8\"))\n",
    "\n",
    "for audio in audio_features:\n",
    "    producer.send(\"audio_features_topic\", json.dumps(audio).encode(\"utf-8\"))"
   ]
  },
  {
   "cell_type": "code",
   "execution_count": 45,
   "metadata": {},
   "outputs": [],
   "source": [
    "tracks_spark = spark.sql(\"select * from tracks\")"
   ]
  },
  {
   "cell_type": "code",
   "execution_count": 90,
   "metadata": {},
   "outputs": [
    {
     "name": "stdout",
     "output_type": "stream",
     "text": [
      "+----------------------+-----------------------------+-------------------------------------------+-----------+\n",
      "|id                    |name                         |artists                                    |duration_ms|\n",
      "+----------------------+-----------------------------+-------------------------------------------+-----------+\n",
      "|227bXIqHWP8Z7gycUGO1sY|Coax & Botany                |[{6sHCvZe1PHrOAuYlwTLNH4, Gus Dapperton}]  |173742     |\n",
      "|3mJcEwAZ7GgPmppR6LvAdp|Sockboy                      |[{6sHCvZe1PHrOAuYlwTLNH4, Gus Dapperton}]  |247029     |\n",
      "|2CNM0Q27eYpDRo5GTVTNYM|Matador                      |[{1CMml5seBEaxQzlmaGxMPx, The Buttertones}]|199360     |\n",
      "|6X3FZtz4cKU2MKSQlGG9ZG|Bags                         |[{3l0CmX0FuQjFxr8SK7Vqag, Clairo}]         |260519     |\n",
      "|7zI1PDpYJ1yEyAINS604Zs|Humongous                    |[{2D4FOOOtWycb3Aw9nY5n3c, Declan McKenna}] |321680     |\n",
      "|6BqWhxll86CGGE6WxgdRqG|Golden Skans                 |[{2qlAMLpUyBjZgnzuFXXZXI, Klaxons}]        |165120     |\n",
      "|5EpU5EsanKQTfRfIVNOa1M|No Kind Words                |[{0vW8z9pZMGCcRtGPGtyqiB, The Maccabees}]  |219426     |\n",
      "|4eiLC2Bd1olDQ0Ki8risiD|Mixed Signals                |[{1ShwUjKIwQRaUJij7jgRhp, The Night Café}] |206323     |\n",
      "|6KKHXbJtnJPjla3V49YPac|Prune, You Talk Funny        |[{6sHCvZe1PHrOAuYlwTLNH4, Gus Dapperton}]  |212701     |\n",
      "|15fSe0A90WtPu1wHqCCWcB|Home                         |[{0U7iI0Dk4Ojvi17nZboNO4, Vacations}]      |145666     |\n",
      "|5hM5arv9KDbCHS0k9uqwjr|Borderline                   |[{5INjqkS1o8h1imAzPqGZBb, Tame Impala}]    |237800     |\n",
      "|716OZGLBg3vkNfMTpfbYm6|Days                         |[{32zeX1IoVKAGWMyy1isKUq, No Vacation}]    |320328     |\n",
      "|25SJaCCPiosugnlY53VhRG|Freaking Out the Neighborhood|[{3Sz7ZnJQBIHsXLUSo0OQtM, Mac DeMarco}]    |173888     |\n",
      "|6OiRh4kttAs1YWglvTcYkB|Alrighty Aphrodite           |[{6fC2AcsQtd9h4BWELbbire, Peach Pit}]      |207813     |\n",
      "|5wv2XK6ms7KBBVDD1cOwlx|Cool with You                |[{77mJc3M7ZT5oOVM7gNdXim, Her's}]          |375656     |\n",
      "+----------------------+-----------------------------+-------------------------------------------+-----------+\n",
      "only showing top 15 rows\n",
      "\n"
     ]
    }
   ],
   "source": [
    "tracks_spark.show(15, False)"
   ]
  },
  {
   "cell_type": "code",
   "execution_count": 86,
   "metadata": {},
   "outputs": [],
   "source": [
    "audio_features_spark = spark.sql(\"select * from audio_features\")"
   ]
  },
  {
   "cell_type": "code",
   "execution_count": 89,
   "metadata": {},
   "outputs": [
    {
     "name": "stdout",
     "output_type": "stream",
     "text": [
      "+----------------------+------------+------+----+--------+----+-----------+------------+----------------+--------+-------+-------+\n",
      "|id                    |danceability|energy|key |loudness|mode|speechiness|acousticness|instrumentalness|liveness|valence|tempo  |\n",
      "+----------------------+------------+------+----+--------+----+-----------+------------+----------------+--------+-------+-------+\n",
      "|227bXIqHWP8Z7gycUGO1sY|null        |null  |null|null    |null|null       |null        |null            |null    |null   |null   |\n",
      "|227bXIqHWP8Z7gycUGO1sY|0.663       |0.623 |11  |-5.283  |1   |0.0239     |0.14        |0.0             |0.0918  |0.773  |81.513 |\n",
      "|3mJcEwAZ7GgPmppR6LvAdp|0.651       |0.719 |6   |-3.38   |0   |0.0334     |0.109       |0.0             |0.129   |0.4    |117.01 |\n",
      "|2CNM0Q27eYpDRo5GTVTNYM|0.462       |0.837 |4   |-4.513  |0   |0.0365     |0.00169     |0.0182          |0.103   |0.582  |146.943|\n",
      "|6X3FZtz4cKU2MKSQlGG9ZG|0.742       |0.546 |1   |-7.694  |1   |0.0315     |0.172       |0.38            |0.115   |0.868  |104.996|\n",
      "|7zI1PDpYJ1yEyAINS604Zs|0.35        |0.806 |9   |-7.356  |0   |0.086      |6.1E-5      |4.36E-4         |0.152   |0.486  |115.068|\n",
      "|6BqWhxll86CGGE6WxgdRqG|0.463       |0.836 |2   |-2.776  |0   |0.0381     |4.18E-4     |7.38E-6         |0.25    |0.713  |141.955|\n",
      "|5EpU5EsanKQTfRfIVNOa1M|0.239       |0.686 |9   |-6.666  |0   |0.0603     |0.0209      |0.107           |0.0713  |0.119  |172.997|\n",
      "|4eiLC2Bd1olDQ0Ki8risiD|0.5         |0.936 |2   |-4.412  |0   |0.0404     |3.17E-4     |0.751           |0.504   |0.882  |161.979|\n",
      "|6KKHXbJtnJPjla3V49YPac|0.57        |0.75  |10  |-7.193  |0   |0.0383     |0.0177      |0.00247         |0.197   |0.578  |140.063|\n",
      "|15fSe0A90WtPu1wHqCCWcB|0.644       |0.672 |9   |-5.438  |0   |0.0246     |0.00562     |6.44E-4         |0.107   |0.412  |89.868 |\n",
      "|5hM5arv9KDbCHS0k9uqwjr|0.621       |0.873 |5   |-3.067  |0   |0.0369     |0.0406      |9.1E-6          |0.0824  |0.873  |97.96  |\n",
      "|716OZGLBg3vkNfMTpfbYm6|0.469       |0.866 |4   |-5.372  |1   |0.0321     |0.0371      |0.921           |0.183   |0.56   |131.0  |\n",
      "|25SJaCCPiosugnlY53VhRG|0.565       |0.832 |8   |-5.751  |0   |0.108      |0.0639      |0.0291          |0.386   |0.847  |143.302|\n",
      "|6OiRh4kttAs1YWglvTcYkB|0.534       |0.724 |6   |-4.675  |0   |0.0495     |0.00605     |0.0929          |0.108   |0.503  |81.846 |\n",
      "+----------------------+------------+------+----+--------+----+-----------+------------+----------------+--------+-------+-------+\n",
      "only showing top 15 rows\n",
      "\n"
     ]
    }
   ],
   "source": [
    "audio_features_spark.show(15, False)"
   ]
  }
 ],
 "metadata": {
  "kernelspec": {
   "display_name": "Python 3",
   "language": "python",
   "name": "python3"
  },
  "language_info": {
   "codemirror_mode": {
    "name": "ipython",
    "version": 3
   },
   "file_extension": ".py",
   "mimetype": "text/x-python",
   "name": "python",
   "nbconvert_exporter": "python",
   "pygments_lexer": "ipython3",
   "version": "3.10.6"
  },
  "orig_nbformat": 4
 },
 "nbformat": 4,
 "nbformat_minor": 2
}
